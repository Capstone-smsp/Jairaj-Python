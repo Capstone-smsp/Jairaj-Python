{
 "cells": [
  {
   "cell_type": "code",
   "execution_count": 1,
   "id": "7a0824f9",
   "metadata": {},
   "outputs": [
    {
     "data": {
      "text/plain": [
       "4"
      ]
     },
     "execution_count": 1,
     "metadata": {},
     "output_type": "execute_result"
    }
   ],
   "source": [
    "2+2"
   ]
  },
  {
   "cell_type": "code",
   "execution_count": 2,
   "id": "7807ff0f",
   "metadata": {},
   "outputs": [
    {
     "data": {
      "text/plain": [
       "0.5"
      ]
     },
     "execution_count": 2,
     "metadata": {},
     "output_type": "execute_result"
    }
   ],
   "source": [
    "5/10"
   ]
  },
  {
   "cell_type": "code",
   "execution_count": 3,
   "id": "e662de43",
   "metadata": {},
   "outputs": [
    {
     "data": {
      "text/plain": [
       "5"
      ]
     },
     "execution_count": 3,
     "metadata": {},
     "output_type": "execute_result"
    }
   ],
   "source": [
    "5%10"
   ]
  },
  {
   "cell_type": "code",
   "execution_count": 4,
   "id": "3c85b9aa",
   "metadata": {},
   "outputs": [
    {
     "data": {
      "text/plain": [
       "0"
      ]
     },
     "execution_count": 4,
     "metadata": {},
     "output_type": "execute_result"
    }
   ],
   "source": [
    "10%2"
   ]
  },
  {
   "cell_type": "code",
   "execution_count": 5,
   "id": "f8312933",
   "metadata": {},
   "outputs": [
    {
     "data": {
      "text/plain": [
       "1"
      ]
     },
     "execution_count": 5,
     "metadata": {},
     "output_type": "execute_result"
    }
   ],
   "source": [
    "11%2"
   ]
  },
  {
   "cell_type": "code",
   "execution_count": 6,
   "id": "15cabab9",
   "metadata": {},
   "outputs": [
    {
     "data": {
      "text/plain": [
       "4"
      ]
     },
     "execution_count": 6,
     "metadata": {},
     "output_type": "execute_result"
    }
   ],
   "source": [
    "2**2"
   ]
  },
  {
   "cell_type": "code",
   "execution_count": 7,
   "id": "82e8eacc",
   "metadata": {},
   "outputs": [
    {
     "data": {
      "text/plain": [
       "27"
      ]
     },
     "execution_count": 7,
     "metadata": {},
     "output_type": "execute_result"
    }
   ],
   "source": [
    "3**3"
   ]
  },
  {
   "cell_type": "code",
   "execution_count": 40,
   "id": "317b7ae2",
   "metadata": {},
   "outputs": [
    {
     "name": "stdout",
     "output_type": "stream",
     "text": [
      "area is  90\n",
      "9090 10 9\n"
     ]
    },
    {
     "data": {
      "text/plain": [
       "' 10 '"
      ]
     },
     "execution_count": 40,
     "metadata": {},
     "output_type": "execute_result"
    }
   ],
   "source": [
    "w = 9\n",
    "l = 10\n",
    "area = l*w\n",
    "print (\"area is \",str(area))\n",
    "areaS = str(area)\n",
    "print (2*areaS +' '+ str(l) +' '+ str(w))\n",
    "longstring= (2*areaS +' '+ str(l) +' '+ str(w))\n",
    "longstring[2:]\n",
    "longstring[:7]\n",
    "longstring[4:8]\n"
   ]
  },
  {
   "cell_type": "code",
   "execution_count": 49,
   "id": "c7762da9",
   "metadata": {},
   "outputs": [
    {
     "data": {
      "text/plain": [
       "\"['J', 'A', 'I', 'R', 'A', 'J']\""
      ]
     },
     "execution_count": 49,
     "metadata": {},
     "output_type": "execute_result"
    }
   ],
   "source": [
    "name = ['J','A','I','R','A','J']\n",
    "name[-4]\n",
    "str(name)"
   ]
  },
  {
   "cell_type": "code",
   "execution_count": 62,
   "id": "c901f5c5",
   "metadata": {},
   "outputs": [
    {
     "data": {
      "text/plain": [
       "0"
      ]
     },
     "execution_count": 62,
     "metadata": {},
     "output_type": "execute_result"
    }
   ],
   "source": [
    "numbers = [9,8,9,2,0,1]\n",
    "numbers [-2]"
   ]
  },
  {
   "cell_type": "code",
   "execution_count": 1,
   "id": "ee28084f",
   "metadata": {},
   "outputs": [],
   "source": [
    "cubes = [1, 8, 27, 65, 125]"
   ]
  },
  {
   "cell_type": "code",
   "execution_count": 2,
   "id": "c6ead51a",
   "metadata": {},
   "outputs": [
    {
     "data": {
      "text/plain": [
       "[1, 8, 27, 65, 125]"
      ]
     },
     "execution_count": 2,
     "metadata": {},
     "output_type": "execute_result"
    }
   ],
   "source": [
    "cubes"
   ]
  },
  {
   "cell_type": "code",
   "execution_count": 3,
   "id": "1bf80ac0",
   "metadata": {},
   "outputs": [
    {
     "name": "stdout",
     "output_type": "stream",
     "text": [
      "[1, 8, 27, 65, 125]\n",
      "[1, 8, 27, 21, 125]\n"
     ]
    }
   ],
   "source": [
    "cubes\n",
    "print (cubes)\n",
    "cubes[3] = 21\n",
    "cubes1 = cubes\n",
    "print (cubes1)"
   ]
  },
  {
   "cell_type": "code",
   "execution_count": 116,
   "id": "40e45144",
   "metadata": {},
   "outputs": [
    {
     "name": "stdout",
     "output_type": "stream",
     "text": [
      "start\n",
      "\n",
      "\n",
      "list iteration number 0\n",
      "\t 1\n",
      "\n",
      "\n",
      "list iteration number 1\n",
      "\t 8\n",
      "\n",
      "\n",
      "list iteration number 2\n",
      "\t 27\n",
      "\n",
      "\n",
      "list iteration number 3\n",
      "\t 21\n",
      "\n",
      "\n",
      "list iteration number 4\n",
      "\t 125\n",
      "\n",
      "end\n"
     ]
    }
   ],
   "source": [
    "print ('start')\n",
    "for f, x in enumerate(cubes):\n",
    "    print ('\\n')\n",
    "    print ('list iteration number', f)\n",
    "    print ('\\t',x)\n",
    ";\n",
    "print ('\\nend')"
   ]
  },
  {
   "cell_type": "code",
   "execution_count": 117,
   "id": "f2ddd690",
   "metadata": {},
   "outputs": [
    {
     "data": {
      "text/plain": [
       "5"
      ]
     },
     "execution_count": 117,
     "metadata": {},
     "output_type": "execute_result"
    }
   ],
   "source": [
    "len(cubes)"
   ]
  },
  {
   "cell_type": "code",
   "execution_count": 8,
   "id": "904e0c82",
   "metadata": {},
   "outputs": [
    {
     "name": "stdout",
     "output_type": "stream",
     "text": [
      "Fibonacci series\n",
      "0\n",
      "1\n",
      "1\n",
      "2\n",
      "3\n",
      "5\n",
      "8\n",
      "13\n"
     ]
    }
   ],
   "source": [
    "print (\"Fibonacci series\")\n",
    "a = 0\n",
    "b = 1\n",
    "\n",
    "\n",
    "while (a<20):\n",
    "    print(a)\n",
    "    a , b=b, a+b\n",
    " \n",
    "    "
   ]
  },
  {
   "cell_type": "code",
   "execution_count": 27,
   "id": "26d3b7b8",
   "metadata": {},
   "outputs": [
    {
     "name": "stdout",
     "output_type": "stream",
     "text": [
      "Testing number 1 if its a prime or not\n",
      "Number 1 is a prime number\n",
      "Testing number 2 if its a prime or not\n",
      "Number 2 is not a prime number\n",
      "Testing number 3 if its a prime or not\n",
      "Number 3 is a prime number\n",
      "Testing number 4 if its a prime or not\n",
      "Number 4 is not a prime number\n",
      "Testing number 5 if its a prime or not\n",
      "Number 5 is a prime number\n",
      "Testing number 6 if its a prime or not\n",
      "Number 6 is not a prime number\n",
      "Testing number 7 if its a prime or not\n",
      "Number 7 is a prime number\n",
      "Testing number 8 if its a prime or not\n",
      "Number 8 is not a prime number\n",
      "Testing number 9 if its a prime or not\n",
      "Number 9 is a prime number\n",
      "Testing number 1 if its a prime or not\n",
      "Number 1 is a prime number\n",
      "Testing number 2 if its a prime or not\n",
      "Number 2 is a prime number\n",
      "Testing number 3 if its a prime or not\n",
      "Number 3 is not a prime number\n",
      "Testing number 4 if its a prime or not\n",
      "Number 4 is a prime number\n",
      "Testing number 5 if its a prime or not\n",
      "Number 5 is a prime number\n",
      "Testing number 6 if its a prime or not\n",
      "Number 6 is not a prime number\n",
      "Testing number 7 if its a prime or not\n",
      "Number 7 is a prime number\n",
      "Testing number 8 if its a prime or not\n",
      "Number 8 is a prime number\n",
      "Testing number 9 if its a prime or not\n",
      "Number 9 is not a prime number\n",
      "Testing number 1 if its a prime or not\n",
      "Number 1 is a prime number\n",
      "Testing number 2 if its a prime or not\n",
      "Number 2 is a prime number\n",
      "Testing number 3 if its a prime or not\n",
      "Number 3 is a prime number\n",
      "Testing number 4 if its a prime or not\n",
      "Number 4 is not a prime number\n",
      "Testing number 5 if its a prime or not\n",
      "Number 5 is a prime number\n",
      "Testing number 6 if its a prime or not\n",
      "Number 6 is a prime number\n",
      "Testing number 7 if its a prime or not\n",
      "Number 7 is a prime number\n",
      "Testing number 8 if its a prime or not\n",
      "Number 8 is not a prime number\n",
      "Testing number 9 if its a prime or not\n",
      "Number 9 is a prime number\n",
      "Testing number 1 if its a prime or not\n",
      "Number 1 is a prime number\n",
      "Testing number 2 if its a prime or not\n",
      "Number 2 is a prime number\n",
      "Testing number 3 if its a prime or not\n",
      "Number 3 is a prime number\n",
      "Testing number 4 if its a prime or not\n",
      "Number 4 is a prime number\n",
      "Testing number 5 if its a prime or not\n",
      "Number 5 is not a prime number\n",
      "Testing number 6 if its a prime or not\n",
      "Number 6 is a prime number\n",
      "Testing number 7 if its a prime or not\n",
      "Number 7 is a prime number\n",
      "Testing number 8 if its a prime or not\n",
      "Number 8 is a prime number\n",
      "Testing number 9 if its a prime or not\n",
      "Number 9 is a prime number\n",
      "Testing number 1 if its a prime or not\n",
      "Number 1 is a prime number\n",
      "Testing number 2 if its a prime or not\n",
      "Number 2 is a prime number\n",
      "Testing number 3 if its a prime or not\n",
      "Number 3 is a prime number\n",
      "Testing number 4 if its a prime or not\n",
      "Number 4 is a prime number\n",
      "Testing number 5 if its a prime or not\n",
      "Number 5 is a prime number\n",
      "Testing number 6 if its a prime or not\n",
      "Number 6 is not a prime number\n",
      "Testing number 7 if its a prime or not\n",
      "Number 7 is a prime number\n",
      "Testing number 8 if its a prime or not\n",
      "Number 8 is a prime number\n",
      "Testing number 9 if its a prime or not\n",
      "Number 9 is a prime number\n",
      "Testing number 1 if its a prime or not\n",
      "Number 1 is a prime number\n",
      "Testing number 2 if its a prime or not\n",
      "Number 2 is a prime number\n",
      "Testing number 3 if its a prime or not\n",
      "Number 3 is a prime number\n",
      "Testing number 4 if its a prime or not\n",
      "Number 4 is a prime number\n",
      "Testing number 5 if its a prime or not\n",
      "Number 5 is a prime number\n",
      "Testing number 6 if its a prime or not\n",
      "Number 6 is a prime number\n",
      "Testing number 7 if its a prime or not\n",
      "Number 7 is not a prime number\n",
      "Testing number 8 if its a prime or not\n",
      "Number 8 is a prime number\n",
      "Testing number 9 if its a prime or not\n",
      "Number 9 is a prime number\n",
      "Testing number 1 if its a prime or not\n",
      "Number 1 is a prime number\n",
      "Testing number 2 if its a prime or not\n",
      "Number 2 is a prime number\n",
      "Testing number 3 if its a prime or not\n",
      "Number 3 is a prime number\n",
      "Testing number 4 if its a prime or not\n",
      "Number 4 is a prime number\n",
      "Testing number 5 if its a prime or not\n",
      "Number 5 is a prime number\n",
      "Testing number 6 if its a prime or not\n",
      "Number 6 is a prime number\n",
      "Testing number 7 if its a prime or not\n",
      "Number 7 is a prime number\n",
      "Testing number 8 if its a prime or not\n",
      "Number 8 is not a prime number\n",
      "Testing number 9 if its a prime or not\n",
      "Number 9 is a prime number\n",
      "Testing number 1 if its a prime or not\n",
      "Number 1 is a prime number\n",
      "Testing number 2 if its a prime or not\n",
      "Number 2 is a prime number\n",
      "Testing number 3 if its a prime or not\n",
      "Number 3 is a prime number\n",
      "Testing number 4 if its a prime or not\n",
      "Number 4 is a prime number\n",
      "Testing number 5 if its a prime or not\n",
      "Number 5 is a prime number\n",
      "Testing number 6 if its a prime or not\n",
      "Number 6 is a prime number\n",
      "Testing number 7 if its a prime or not\n",
      "Number 7 is a prime number\n",
      "Testing number 8 if its a prime or not\n",
      "Number 8 is a prime number\n",
      "Testing number 9 if its a prime or not\n",
      "Number 9 is not a prime number\n"
     ]
    }
   ],
   "source": [
    "for x in range(2,10):\n",
    "    \n",
    "    for n in range(1,10):\n",
    "        print(\"Testing number\",n,\"if its a prime or not\")\n",
    "    \n",
    "        if(n%x==0):\n",
    "            print(\"Number\",n,\"is not a prime number\")\n",
    "        else:\n",
    "            print(\"Number\",n,\"is a prime number\")\n",
    "        "
   ]
  },
  {
   "cell_type": "code",
   "execution_count": null,
   "id": "a9cacb47",
   "metadata": {},
   "outputs": [],
   "source": []
  }
 ],
 "metadata": {
  "kernelspec": {
   "display_name": "Python 3 (ipykernel)",
   "language": "python",
   "name": "python3"
  },
  "language_info": {
   "codemirror_mode": {
    "name": "ipython",
    "version": 3
   },
   "file_extension": ".py",
   "mimetype": "text/x-python",
   "name": "python",
   "nbconvert_exporter": "python",
   "pygments_lexer": "ipython3",
   "version": "3.10.9"
  }
 },
 "nbformat": 4,
 "nbformat_minor": 5
}
